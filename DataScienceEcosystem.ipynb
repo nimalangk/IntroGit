{
 "cells": [
  {
   "cell_type": "markdown",
   "id": "83626e18",
   "metadata": {},
   "source": [
    "# Data Science Tools and Ecosystem\n",
    "In this notebook, Data Science Tools and Ecosystem are summarized.\n"
   ]
  },
  {
   "cell_type": "markdown",
   "id": "6811eeb5",
   "metadata": {},
   "source": [
    "Some of the popular languages that Data Scientists use are:\n",
    "1. Python\n",
    "2. SQL\n",
    "3. Java\n",
    "4. NLP"
   ]
  },
  {
   "cell_type": "markdown",
   "id": "92be1d60",
   "metadata": {},
   "source": [
    "Some of the commonly used libraries used by Data Scientists include:\n",
    "1. Numpy\n",
    "2. Pandas\n",
    "3. Seaborn\n",
    "4. Scipy \n",
    "5. Mathplotlib\n"
   ]
  },
  {
   "cell_type": "markdown",
   "id": "2b3e9e0a",
   "metadata": {},
   "source": [
    "In this notebook, Data Science Tools and Ecosystem are summarized.\n",
    "\n",
    "| Data Science Tools |\n",
    "| -------------------|\n",
    "| Jupyter Notebook   |\n",
    "| Anaconda           |\n",
    "| Tableau            |\n",
    "| PowerBI            |\n",
    "| Microsoft SQL      |"
   ]
  },
  {
   "cell_type": "markdown",
   "id": "02a16963",
   "metadata": {},
   "source": [
    "### Below are a few examples of evaluating arithmetic expressions in Python"
   ]
  },
  {
   "cell_type": "code",
   "execution_count": 3,
   "id": "1a2c0db4",
   "metadata": {},
   "outputs": [
    {
     "data": {
      "text/plain": [
       "17"
      ]
     },
     "execution_count": 3,
     "metadata": {},
     "output_type": "execute_result"
    }
   ],
   "source": [
    "# This a simple arithmetic expression to mutiply then add integers\n",
    "(3*4)+5"
   ]
  },
  {
   "cell_type": "code",
   "execution_count": 4,
   "id": "51257527",
   "metadata": {},
   "outputs": [
    {
     "data": {
      "text/plain": [
       "3.3333333333333335"
      ]
     },
     "execution_count": 4,
     "metadata": {},
     "output_type": "execute_result"
    }
   ],
   "source": [
    "# This will convert 200 minutes to hours by diving by 60\n",
    "200 / 60 "
   ]
  },
  {
   "cell_type": "markdown",
   "id": "6737f683",
   "metadata": {},
   "source": [
    "**Objectives:**\n",
    "\n",
    "List popular languages for Data Science :\n",
    "* Python\n",
    "* R \n",
    "* SQL \n",
    "* NLP \n",
    "* Java "
   ]
  },
  {
   "cell_type": "markdown",
   "id": "ff8de2dd",
   "metadata": {},
   "source": [
    "## Authors :\n",
    "G.K.Nimalan "
   ]
  },
  {
   "cell_type": "code",
   "execution_count": null,
   "id": "249e8192",
   "metadata": {},
   "outputs": [],
   "source": []
  }
 ],
 "metadata": {
  "kernelspec": {
   "display_name": "Python 3 (ipykernel)",
   "language": "python",
   "name": "python3"
  },
  "language_info": {
   "codemirror_mode": {
    "name": "ipython",
    "version": 3
   },
   "file_extension": ".py",
   "mimetype": "text/x-python",
   "name": "python",
   "nbconvert_exporter": "python",
   "pygments_lexer": "ipython3",
   "version": "3.9.7"
  }
 },
 "nbformat": 4,
 "nbformat_minor": 5
}
